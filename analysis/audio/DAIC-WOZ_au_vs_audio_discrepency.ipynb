{
 "cells": [
  {
   "cell_type": "markdown",
   "metadata": {},
   "source": [
    "# Checking Discrepancies\n",
    "\n",
    "The code below was roughly used to explore the difference between the total frames provided by the AU_CLNF files vs the audio recording & transcript for participants 402 & 420.\n",
    "\n",
    "Conclusively, the AU_CLNF files for both are cut short"
   ]
  },
  {
   "cell_type": "code",
   "execution_count": 1,
   "metadata": {},
   "outputs": [],
   "source": [
    "import sys\n",
    "import os\n",
    "import numpy as np\n",
    "import pandas as pd\n",
    "\n",
    "sys.path.append(os.path.abspath(os.path.join('..', '..', 'depression_detection')))\n",
    "from daic_woz_reader import DAIC_WOZ_READER"
   ]
  },
  {
   "cell_type": "markdown",
   "metadata": {},
   "source": [
    "## Full DAIC-WOZ"
   ]
  },
  {
   "cell_type": "code",
   "execution_count": null,
   "metadata": {},
   "outputs": [
    {
     "name": "stdout",
     "output_type": "stream",
     "text": [
      "Reading Participant ID: 492...\r"
     ]
    }
   ],
   "source": [
    "dw_reader_full = DAIC_WOZ_READER(\n",
    "                directory=\"../../data/DAIC-WOZ/\", \n",
    "                speaking_only=False, \n",
    "                keep_AU_cols=[\"AU01_r\", \"AU02_r\", \"AU04_r\", \"AU05_r\", \"AU06_r\", \"AU09_r\", \"AU10_r\", \"AU12_r\", \"AU14_r\", \"AU15_r\", \"AU17_r\", \"AU20_r\", \"AU25_r\", \"AU26_r\",\n",
    "                \"AU04_c\", \"AU12_c\", \"AU15_c\", \"AU23_c\",\"AU28_c\", \"AU45_c\"], \n",
    "                phq8_categories={\n",
    "                    0: [0,9],\n",
    "                    1: [10,24]\n",
    "                },\n",
    "                remove_unsuccessful=False\n",
    "            )"
   ]
  },
  {
   "cell_type": "code",
   "execution_count": 40,
   "metadata": {},
   "outputs": [
    {
     "name": "stdout",
     "output_type": "stream",
     "text": [
      "402 Frames Duration: 758.8666666666667\n",
      "402 Final Timestamp: 2600742    833.267\n",
      "Name: timestamp, dtype: float64\n",
      "Diff: -74.4670000000001\n"
     ]
    }
   ],
   "source": [
    "print(\"402 Frames Duration:\", dw_reader_full.au_df[dw_reader_full.au_df[\"Participant_ID\"] == \"402\"][\"timestamp\"].nunique() / 30)\n",
    "print(\"402 Final Timestamp:\", dw_reader_full.au_df[dw_reader_full.au_df[\"Participant_ID\"] == \"402\"][\"timestamp\"].tail(1))\n",
    "print(\"Diff:\", str(758.8 - 833.267))"
   ]
  },
  {
   "cell_type": "code",
   "execution_count": 41,
   "metadata": {},
   "outputs": [
    {
     "name": "stdout",
     "output_type": "stream",
     "text": [
      "420 Frames Duration: 674.6\n",
      "420 Final Timestamp: 3100472    706.367\n",
      "Name: timestamp, dtype: float64\n",
      "Diff: -31.76699999999994\n"
     ]
    }
   ],
   "source": [
    "print(\"420 Frames Duration:\", dw_reader_full.au_df[dw_reader_full.au_df[\"Participant_ID\"] == \"420\"][\"timestamp\"].nunique() / 30)\n",
    "print(\"420 Final Timestamp:\", dw_reader_full.au_df[dw_reader_full.au_df[\"Participant_ID\"] == \"420\"][\"timestamp\"].tail(1))\n",
    "print(\"Diff:\", str(674.6 - 706.367))"
   ]
  },
  {
   "cell_type": "markdown",
   "metadata": {},
   "source": [
    "## Speaking Only"
   ]
  },
  {
   "cell_type": "code",
   "execution_count": null,
   "metadata": {},
   "outputs": [
    {
     "name": "stdout",
     "output_type": "stream",
     "text": [
      "Reading Participant ID: 492...\r"
     ]
    }
   ],
   "source": [
    "dw_reader = DAIC_WOZ_READER(\n",
    "                directory=\"../../data/DAIC-WOZ/\", \n",
    "                speaking_only=True, \n",
    "                keep_AU_cols=[\"AU01_r\", \"AU02_r\", \"AU04_r\", \"AU05_r\", \"AU06_r\", \"AU09_r\", \"AU10_r\", \"AU12_r\", \"AU14_r\", \"AU15_r\", \"AU17_r\", \"AU20_r\", \"AU25_r\", \"AU26_r\",\n",
    "                \"AU04_c\", \"AU12_c\", \"AU15_c\", \"AU23_c\",\"AU28_c\", \"AU45_c\"], \n",
    "                phq8_categories={\n",
    "                    0: [0,9],\n",
    "                    1: [10,24]\n",
    "                },\n",
    "                remove_unsuccessful=False\n",
    "            )"
   ]
  },
  {
   "cell_type": "code",
   "execution_count": 14,
   "metadata": {},
   "outputs": [],
   "source": [
    "split_dfs = dw_reader.split_dfs\n",
    "au_df = dw_reader.au_df"
   ]
  },
  {
   "cell_type": "code",
   "execution_count": 44,
   "metadata": {},
   "outputs": [
    {
     "data": {
      "text/plain": [
       "395.8333333333333"
      ]
     },
     "execution_count": 44,
     "metadata": {},
     "output_type": "execute_result"
    }
   ],
   "source": [
    "au_df[au_df[\"Participant_ID\"] == \"402\"][\"timestamp\"].nunique() / 30"
   ]
  },
  {
   "cell_type": "code",
   "execution_count": 16,
   "metadata": {},
   "outputs": [
    {
     "data": {
      "text/plain": [
       "275.26666666666665"
      ]
     },
     "execution_count": 16,
     "metadata": {},
     "output_type": "execute_result"
    }
   ],
   "source": [
    "au_df[au_df[\"Participant_ID\"] == \"420\"][\"timestamp\"].nunique() / 30"
   ]
  },
  {
   "cell_type": "markdown",
   "metadata": {},
   "source": [
    "## Transcript"
   ]
  },
  {
   "cell_type": "code",
   "execution_count": null,
   "metadata": {},
   "outputs": [
    {
     "data": {
      "text/plain": [
       "447.60000000000014"
      ]
     },
     "execution_count": 47,
     "metadata": {},
     "output_type": "execute_result"
    }
   ],
   "source": [
    "df = pd.read_csv(\n",
    "    \"../../data/DAIC-WOZ/402_P/402_TRANSCRIPT.csv\",\n",
    "    sep=r\"\\s+\",  # One or more whitespaces as the delimiter\n",
    "    engine=\"python\",\n",
    "    skiprows=1,  # Skip the first header row\n",
    "    header=None,\n",
    "    usecols=[0, 1, 2],  # Only load the columns we care about\n",
    "    names=['start_time', 'stop_time', 'speaker'],\n",
    ")\n",
    "\n",
    "times = df[df[\"speaker\"] == \"Participant\"][\"stop_time\"] - df[df[\"speaker\"] == \"Participant\"][\"start_time\"]\n",
    "sum(times)"
   ]
  },
  {
   "cell_type": "code",
   "execution_count": null,
   "metadata": {},
   "outputs": [
    {
     "data": {
      "text/plain": [
       "395.3000000000002"
      ]
     },
     "execution_count": 53,
     "metadata": {},
     "output_type": "execute_result"
    }
   ],
   "source": [
    "# Removing all after final timestamp from DF results in same total duration as AU df\n",
    "df = df[(df[\"speaker\"] == \"Participant\") & (df[\"start_time\"] < 833.267)]\n",
    "\n",
    "times = df[df[\"speaker\"] == \"Participant\"][\"stop_time\"] - df[df[\"speaker\"] == \"Participant\"][\"start_time\"]\n",
    "sum(times)"
   ]
  },
  {
   "cell_type": "code",
   "execution_count": null,
   "metadata": {},
   "outputs": [
    {
     "data": {
      "text/plain": [
       "383.82999999999976"
      ]
     },
     "execution_count": 63,
     "metadata": {},
     "output_type": "execute_result"
    }
   ],
   "source": [
    "df = pd.read_csv(\n",
    "    \"../../data/DAIC-WOZ/420_P/420_TRANSCRIPT.csv\",\n",
    "    sep=r\"\\s+\",  # One or more whitespaces as the delimiter\n",
    "    engine=\"python\",\n",
    "    skiprows=1,  # Skip the first header row\n",
    "    header=None,\n",
    "    usecols=[0, 1, 2],  # Only load the columns we care about\n",
    "    names=['start_time', 'stop_time', 'speaker'],\n",
    ")\n",
    "\n",
    "times = df[df[\"speaker\"] == \"Participant\"][\"stop_time\"] - df[df[\"speaker\"] == \"Participant\"][\"start_time\"]\n",
    "sum(times)"
   ]
  },
  {
   "cell_type": "code",
   "execution_count": null,
   "metadata": {},
   "outputs": [
    {
     "data": {
      "text/plain": [
       "275.19499999999977"
      ]
     },
     "execution_count": 64,
     "metadata": {},
     "output_type": "execute_result"
    }
   ],
   "source": [
    "# Removing all after final timestamp from DF results in same total duration as AU df\n",
    "df = df[(df[\"speaker\"] == \"Participant\") & (df[\"start_time\"] < 706.367)]\n",
    "\n",
    "times = df[df[\"speaker\"] == \"Participant\"][\"stop_time\"] - df[df[\"speaker\"] == \"Participant\"][\"start_time\"]\n",
    "sum(times)"
   ]
  },
  {
   "cell_type": "markdown",
   "metadata": {},
   "source": [
    "# Comparing Processed MFCC & AU Files (with further non-voiced removal)\n",
    "\n",
    "This extra section is to check if the extracted MFCCs match up with the corresponding AUs"
   ]
  },
  {
   "cell_type": "code",
   "execution_count": null,
   "metadata": {},
   "outputs": [
    {
     "data": {
      "text/plain": [
       "362.21999999999997"
      ]
     },
     "execution_count": 31,
     "metadata": {},
     "output_type": "execute_result"
    }
   ],
   "source": [
    "mfcc_len = np.load(f\"../../data/au_mfcc/DAIC-WOZ_MFCC/60_60_60_60/{402}_P/{402}_MFCC.npy\").shape[1] / (16 + 2/3)\n",
    "mfcc_len"
   ]
  },
  {
   "cell_type": "code",
   "execution_count": null,
   "metadata": {},
   "outputs": [
    {
     "data": {
      "text/plain": [
       "250.55999999999997"
      ]
     },
     "execution_count": 5,
     "metadata": {},
     "output_type": "execute_result"
    }
   ],
   "source": [
    "mfcc_len = np.load(f\"../../data/au_mfcc/DAIC-WOZ_MFCC/60_60_60_60/{420}_P/{420}_MFCC.npy\").shape[1] / (16 + 2/3)\n",
    "mfcc_len"
   ]
  },
  {
   "cell_type": "code",
   "execution_count": null,
   "metadata": {},
   "outputs": [
    {
     "name": "stdout",
     "output_type": "stream",
     "text": [
      "Reading Participant ID: 492...\r"
     ]
    }
   ],
   "source": [
    "dw_reader_participant_voiced = DAIC_WOZ_READER(\n",
    "    directory=\"../../data/au_mfcc/DAIC-WOZ_Participant_Voiced/\", \n",
    "    speaking_only=False, \n",
    "    keep_AU_cols=[\"AU01_r\", \"AU02_r\", \"AU04_r\", \"AU05_r\", \"AU06_r\", \"AU09_r\", \"AU10_r\", \"AU12_r\", \"AU14_r\", \"AU15_r\", \"AU17_r\", \"AU20_r\", \"AU25_r\", \"AU26_r\",\n",
    "    \"AU04_c\", \"AU12_c\", \"AU15_c\", \"AU23_c\",\"AU28_c\", \"AU45_c\"], \n",
    "    phq8_categories={\n",
    "        0: [0,9],\n",
    "        1: [10,24]\n",
    "    },\n",
    "    remove_unsuccessful=False\n",
    ")\n",
    "\n",
    "au_df2 = dw_reader_participant_voiced.au_df"
   ]
  },
  {
   "cell_type": "code",
   "execution_count": null,
   "metadata": {},
   "outputs": [
    {
     "name": "stdout",
     "output_type": "stream",
     "text": [
      "absolute mean: 0.08532627865959913\n",
      "mean: 0.035238095238067625\n"
     ]
    }
   ],
   "source": [
    "time_diffs = []\n",
    "for pid in au_df2[\"Participant_ID\"].unique():\n",
    "    au_len = au_df2[au_df2[\"Participant_ID\"] == pid][\"timestamp\"].count() / 30\n",
    "\n",
    "    mfcc_len = np.load(f\"../../data/au_mfcc/DAIC-WOZ_MFCC/60_60_60_60/{pid}_P/{pid}_MFCC.npy\").shape[1] / (16 + 2/3)\n",
    "\n",
    "    diff = mfcc_len - au_len\n",
    "    time_diffs.append(diff)\n",
    "\n",
    "    if abs(diff) >= 1:\n",
    "        print(pid, diff)\n",
    "\n",
    "print(\"absolute mean:\", np.mean([abs(t) for t in time_diffs]))\n",
    "print(\"mean:\", np.mean(time_diffs))        "
   ]
  },
  {
   "cell_type": "code",
   "execution_count": null,
   "metadata": {},
   "outputs": [],
   "source": []
  }
 ],
 "metadata": {
  "kernelspec": {
   "display_name": "DS",
   "language": "python",
   "name": "python3"
  },
  "language_info": {
   "codemirror_mode": {
    "name": "ipython",
    "version": 3
   },
   "file_extension": ".py",
   "mimetype": "text/x-python",
   "name": "python",
   "nbconvert_exporter": "python",
   "pygments_lexer": "ipython3",
   "version": "3.11.9"
  }
 },
 "nbformat": 4,
 "nbformat_minor": 2
}
