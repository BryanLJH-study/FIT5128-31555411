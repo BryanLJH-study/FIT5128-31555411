{
 "cells": [
  {
   "cell_type": "markdown",
   "metadata": {},
   "source": [
    "# 0: Set Up"
   ]
  },
  {
   "cell_type": "markdown",
   "metadata": {},
   "source": [
    "Import Libraries"
   ]
  },
  {
   "cell_type": "code",
   "execution_count": 3,
   "metadata": {},
   "outputs": [],
   "source": [
    "# from feat.utils.io import read_feat\n",
    "import os\n",
    "import pandas as pd\n",
    "import re\n",
    "import scipy.stats as stats\n",
    "from statsmodels.multivariate.manova import MANOVA\n",
    "import seaborn as sns\n",
    "import matplotlib.pyplot as plt"
   ]
  },
  {
   "cell_type": "markdown",
   "metadata": {},
   "source": [
    "# 1: Read Data"
   ]
  },
  {
   "cell_type": "markdown",
   "metadata": {},
   "source": [
    "## 1.1: Concatenate data into single dataframe"
   ]
  },
  {
   "cell_type": "code",
   "execution_count": 13,
   "metadata": {},
   "outputs": [],
   "source": [
    "def concat_annotation_files(directory:str, speaking_only:bool=False):\n",
    "    \"\"\"\n",
    "    \"\"\"\n",
    "    dfs = []\n",
    "    for root, dirs, files in os.walk(directory):\n",
    "        for file_name in files:\n",
    "            # Verify file name\n",
    "            match = re.search(r\"([S\\d+])_([2-9])([0-9]{2})([0-9])\\-([0-9]+)\\.csv$\", file_name) # Skip \"Anxiety\"\n",
    "            if match:\n",
    "                participant_id = \"S0\" + match.group(1)\n",
    "                category = int(match.group(2))\n",
    "                take = int(match.group(3)) + 1\n",
    "                part = int(match.group(4))\n",
    "                video_splice_number = int(match.group(5))\n",
    "\n",
    "                # Read file & append dataframe to list\n",
    "                if not speaking_only or video_splice_number % 2 == 0:\n",
    "                    df = pd.read_csv(os.path.join(root, file_name), usecols=lambda col: col.startswith(\"AU\") or col == \"frame\", low_memory=False)\n",
    "                    df[\"filename\"] = file_name\n",
    "                    df[\"participant_id\"] = participant_id\n",
    "                    df[\"category\"] = 0 if category == 2 else 1\n",
    "                    df[\"take\"] = take\n",
    "                    df[\"part\"] = part\n",
    "                    df[\"video_splice_number\"] = video_splice_number\n",
    "                    df = df.iloc[::4, :]                                # 120fps -> 30fps\n",
    "                    dfs.append(df)\n",
    "\n",
    "    # Combine dataframes and re-order columns\n",
    "    cols_custom_order = [\"filename\", \"participant_id\", \"category\", \"take\", \"part\", \"video_splice_number\", \"frame\"]\n",
    "    keep_AU_cols = [\"AU01_r\", \"AU02_r\", \"AU04_r\", \"AU05_r\", \"AU06_r\", \"AU09_r\", \"AU10_r\", \"AU12_r\", \"AU14_r\", \"AU15_r\", \"AU17_r\", \"AU20_r\", \"AU25_r\", \"AU26_r\",\n",
    "                    \"AU04_c\", \"AU12_c\", \"AU15_c\", \"AU23_c\",\"AU28_c\", \"AU45_c\"]\n",
    "    combined_df = pd.concat(dfs, ignore_index=True)\n",
    "    cols = cols_custom_order + keep_AU_cols\n",
    "    combined_df = combined_df[cols]\n",
    "\n",
    "    return combined_df"
   ]
  },
  {
   "cell_type": "code",
   "execution_count": 14,
   "metadata": {},
   "outputs": [
    {
     "name": "stdout",
     "output_type": "stream",
     "text": [
      "Unique videos: 780\n",
      "Total processed frames: 356867\n",
      "Avg frames per video: 457.5217948717949\n",
      "Memory used: 0.11025343649089336 GB\n"
     ]
    }
   ],
   "source": [
    "df = concat_annotation_files('../../data/FacialAnnotations/OpenFace/Type 01', speaking_only=False)\n",
    "print(f\"Unique videos: {df.filename.nunique()}\")\n",
    "print(f\"Total processed frames: {df.shape[0]}\")\n",
    "print(f\"Avg frames per video: {df.groupby('filename').size().mean()}\")\n",
    "print(f\"Memory used: {df.memory_usage(deep=True).sum() / (1024 **3)} GB\")"
   ]
  },
  {
   "cell_type": "markdown",
   "metadata": {},
   "source": [
    "## 1.2: Preview"
   ]
  },
  {
   "cell_type": "code",
   "execution_count": 15,
   "metadata": {},
   "outputs": [
    {
     "data": {
      "text/html": [
       "<div>\n",
       "<style scoped>\n",
       "    .dataframe tbody tr th:only-of-type {\n",
       "        vertical-align: middle;\n",
       "    }\n",
       "\n",
       "    .dataframe tbody tr th {\n",
       "        vertical-align: top;\n",
       "    }\n",
       "\n",
       "    .dataframe thead th {\n",
       "        text-align: right;\n",
       "    }\n",
       "</style>\n",
       "<table border=\"1\" class=\"dataframe\">\n",
       "  <thead>\n",
       "    <tr style=\"text-align: right;\">\n",
       "      <th></th>\n",
       "      <th>filename</th>\n",
       "      <th>participant_id</th>\n",
       "      <th>category</th>\n",
       "      <th>take</th>\n",
       "      <th>part</th>\n",
       "      <th>video_splice_number</th>\n",
       "      <th>frame</th>\n",
       "      <th>AU01_r</th>\n",
       "      <th>AU02_r</th>\n",
       "      <th>AU04_r</th>\n",
       "      <th>...</th>\n",
       "      <th>AU17_r</th>\n",
       "      <th>AU20_r</th>\n",
       "      <th>AU25_r</th>\n",
       "      <th>AU26_r</th>\n",
       "      <th>AU04_c</th>\n",
       "      <th>AU12_c</th>\n",
       "      <th>AU15_c</th>\n",
       "      <th>AU23_c</th>\n",
       "      <th>AU28_c</th>\n",
       "      <th>AU45_c</th>\n",
       "    </tr>\n",
       "  </thead>\n",
       "  <tbody>\n",
       "    <tr>\n",
       "      <th>0</th>\n",
       "      <td>S01_2001-1.csv</td>\n",
       "      <td>S01</td>\n",
       "      <td>0</td>\n",
       "      <td>1</td>\n",
       "      <td>1</td>\n",
       "      <td>1</td>\n",
       "      <td>1</td>\n",
       "      <td>0.0</td>\n",
       "      <td>0.0</td>\n",
       "      <td>2.24</td>\n",
       "      <td>...</td>\n",
       "      <td>0.00</td>\n",
       "      <td>0.11</td>\n",
       "      <td>1.78</td>\n",
       "      <td>1.86</td>\n",
       "      <td>1.0</td>\n",
       "      <td>0.0</td>\n",
       "      <td>0.0</td>\n",
       "      <td>0.0</td>\n",
       "      <td>0.0</td>\n",
       "      <td>0.0</td>\n",
       "    </tr>\n",
       "    <tr>\n",
       "      <th>1</th>\n",
       "      <td>S01_2001-1.csv</td>\n",
       "      <td>S01</td>\n",
       "      <td>0</td>\n",
       "      <td>1</td>\n",
       "      <td>1</td>\n",
       "      <td>1</td>\n",
       "      <td>5</td>\n",
       "      <td>0.0</td>\n",
       "      <td>0.0</td>\n",
       "      <td>1.81</td>\n",
       "      <td>...</td>\n",
       "      <td>0.01</td>\n",
       "      <td>0.27</td>\n",
       "      <td>1.94</td>\n",
       "      <td>1.79</td>\n",
       "      <td>1.0</td>\n",
       "      <td>0.0</td>\n",
       "      <td>0.0</td>\n",
       "      <td>0.0</td>\n",
       "      <td>0.0</td>\n",
       "      <td>0.0</td>\n",
       "    </tr>\n",
       "    <tr>\n",
       "      <th>2</th>\n",
       "      <td>S01_2001-1.csv</td>\n",
       "      <td>S01</td>\n",
       "      <td>0</td>\n",
       "      <td>1</td>\n",
       "      <td>1</td>\n",
       "      <td>1</td>\n",
       "      <td>9</td>\n",
       "      <td>0.0</td>\n",
       "      <td>0.0</td>\n",
       "      <td>1.93</td>\n",
       "      <td>...</td>\n",
       "      <td>0.27</td>\n",
       "      <td>0.45</td>\n",
       "      <td>1.47</td>\n",
       "      <td>1.90</td>\n",
       "      <td>1.0</td>\n",
       "      <td>0.0</td>\n",
       "      <td>0.0</td>\n",
       "      <td>1.0</td>\n",
       "      <td>0.0</td>\n",
       "      <td>0.0</td>\n",
       "    </tr>\n",
       "    <tr>\n",
       "      <th>3</th>\n",
       "      <td>S01_2001-1.csv</td>\n",
       "      <td>S01</td>\n",
       "      <td>0</td>\n",
       "      <td>1</td>\n",
       "      <td>1</td>\n",
       "      <td>1</td>\n",
       "      <td>13</td>\n",
       "      <td>0.0</td>\n",
       "      <td>0.0</td>\n",
       "      <td>1.71</td>\n",
       "      <td>...</td>\n",
       "      <td>0.12</td>\n",
       "      <td>0.07</td>\n",
       "      <td>1.17</td>\n",
       "      <td>1.39</td>\n",
       "      <td>1.0</td>\n",
       "      <td>0.0</td>\n",
       "      <td>0.0</td>\n",
       "      <td>1.0</td>\n",
       "      <td>0.0</td>\n",
       "      <td>0.0</td>\n",
       "    </tr>\n",
       "    <tr>\n",
       "      <th>4</th>\n",
       "      <td>S01_2001-1.csv</td>\n",
       "      <td>S01</td>\n",
       "      <td>0</td>\n",
       "      <td>1</td>\n",
       "      <td>1</td>\n",
       "      <td>1</td>\n",
       "      <td>17</td>\n",
       "      <td>0.0</td>\n",
       "      <td>0.0</td>\n",
       "      <td>1.82</td>\n",
       "      <td>...</td>\n",
       "      <td>0.34</td>\n",
       "      <td>0.00</td>\n",
       "      <td>0.66</td>\n",
       "      <td>0.73</td>\n",
       "      <td>1.0</td>\n",
       "      <td>0.0</td>\n",
       "      <td>0.0</td>\n",
       "      <td>1.0</td>\n",
       "      <td>0.0</td>\n",
       "      <td>0.0</td>\n",
       "    </tr>\n",
       "  </tbody>\n",
       "</table>\n",
       "<p>5 rows × 27 columns</p>\n",
       "</div>"
      ],
      "text/plain": [
       "         filename participant_id  category  take  part  video_splice_number  \\\n",
       "0  S01_2001-1.csv            S01         0     1     1                    1   \n",
       "1  S01_2001-1.csv            S01         0     1     1                    1   \n",
       "2  S01_2001-1.csv            S01         0     1     1                    1   \n",
       "3  S01_2001-1.csv            S01         0     1     1                    1   \n",
       "4  S01_2001-1.csv            S01         0     1     1                    1   \n",
       "\n",
       "   frame  AU01_r  AU02_r  AU04_r  ...  AU17_r  AU20_r  AU25_r  AU26_r  AU04_c  \\\n",
       "0      1     0.0     0.0    2.24  ...    0.00    0.11    1.78    1.86     1.0   \n",
       "1      5     0.0     0.0    1.81  ...    0.01    0.27    1.94    1.79     1.0   \n",
       "2      9     0.0     0.0    1.93  ...    0.27    0.45    1.47    1.90     1.0   \n",
       "3     13     0.0     0.0    1.71  ...    0.12    0.07    1.17    1.39     1.0   \n",
       "4     17     0.0     0.0    1.82  ...    0.34    0.00    0.66    0.73     1.0   \n",
       "\n",
       "   AU12_c  AU15_c  AU23_c  AU28_c  AU45_c  \n",
       "0     0.0     0.0     0.0     0.0     0.0  \n",
       "1     0.0     0.0     0.0     0.0     0.0  \n",
       "2     0.0     0.0     1.0     0.0     0.0  \n",
       "3     0.0     0.0     1.0     0.0     0.0  \n",
       "4     0.0     0.0     1.0     0.0     0.0  \n",
       "\n",
       "[5 rows x 27 columns]"
      ]
     },
     "execution_count": 15,
     "metadata": {},
     "output_type": "execute_result"
    }
   ],
   "source": [
    "df.head()"
   ]
  },
  {
   "cell_type": "markdown",
   "metadata": {},
   "source": [
    "Define column groups"
   ]
  },
  {
   "cell_type": "code",
   "execution_count": 19,
   "metadata": {},
   "outputs": [],
   "source": [
    "# Filter columns starting with 'AU'\n",
    "AU_cols = df.filter(like='AU').columns\n",
    "AU_cols_cont = df.filter(regex=\"AU\\d+_r\").columns\n",
    "AU_cols_bin = df.filter(regex=\"AU\\d+_c\").columns\n"
   ]
  },
  {
   "cell_type": "markdown",
   "metadata": {},
   "source": [
    "AU means for each category"
   ]
  },
  {
   "cell_type": "code",
   "execution_count": 20,
   "metadata": {},
   "outputs": [
    {
     "data": {
      "text/plain": [
       "<Axes: >"
      ]
     },
     "execution_count": 20,
     "metadata": {},
     "output_type": "execute_result"
    },
    {
     "data": {
      "image/png": "[encoded data removed]",
      "text/plain": [
       "<Figure size 640x480 with 1 Axes>"
      ]
     },
     "metadata": {},
     "output_type": "display_data"
    }
   ],
   "source": [
    "# Group by the extracted keys and calculate mean for AU columns\n",
    "AU_means = df.groupby(['category'])[AU_cols].mean().T\n",
    "\n",
    "AU_means.plot(kind='bar')"
   ]
  },
  {
   "cell_type": "markdown",
   "metadata": {},
   "source": [
    "# 2: Statistical Tests"
   ]
  },
  {
   "cell_type": "markdown",
   "metadata": {},
   "source": [
    "## 2.1: Individual AUs"
   ]
  },
  {
   "cell_type": "markdown",
   "metadata": {},
   "source": [
    "One-Way ANOVA for Continuous AUs"
   ]
  },
  {
   "cell_type": "code",
   "execution_count": 21,
   "metadata": {},
   "outputs": [
    {
     "name": "stdout",
     "output_type": "stream",
     "text": [
      "AU01_r {'F-Statistic': 27.049841529360027, 'P-Value': 1.9838554590801017e-07}\n",
      "AU02_r {'F-Statistic': 0.11068142505500127, 'P-Value': 0.7393698681303509}\n",
      "AU04_r {'F-Statistic': 522.8359289671977, 'P-Value': 1.2386673349978764e-115}\n",
      "AU05_r {'F-Statistic': 0.4421121056605578, 'P-Value': 0.5061052191608216}\n",
      "AU06_r {'F-Statistic': 64.26839289616397, 'P-Value': 1.0889792911925979e-15}\n",
      "AU09_r {'F-Statistic': 101.56714494849919, 'P-Value': 6.959244985473137e-24}\n",
      "AU10_r {'F-Statistic': 138.09815614530928, 'P-Value': 7.030839466185728e-32}\n",
      "AU12_r {'F-Statistic': 27.5382596489069, 'P-Value': 1.5410513667847297e-07}\n",
      "AU14_r {'F-Statistic': 892.5169773945702, 'P-Value': 7.261761206401815e-196}\n",
      "AU15_r {'F-Statistic': 47.78529845975087, 'P-Value': 4.763375253480568e-12}\n",
      "AU17_r {'F-Statistic': 87.41749614145762, 'P-Value': 8.83521013467295e-21}\n",
      "AU20_r {'F-Statistic': 21.331238778495, 'P-Value': 3.865181048263999e-06}\n",
      "AU25_r {'F-Statistic': 13.616968657522568, 'P-Value': 0.0002241836125495463}\n",
      "AU26_r {'F-Statistic': 1.7679268068986038, 'P-Value': 0.18363971121358083}\n"
     ]
    }
   ],
   "source": [
    "def one_way_anova(df, continuous_aus):\n",
    "    results = {}\n",
    "    for au_col in continuous_aus:\n",
    "        groups = [df[df[\"category\"] == cat][au_col].dropna() for cat in df[\"category\"].unique()]\n",
    "        f_stat, p_value = stats.f_oneway(*groups)\n",
    "        results[au_col] = {\"F-Statistic\": f_stat, \"P-Value\": p_value}\n",
    "    return results\n",
    "\n",
    "# Run One-Way ANOVA\n",
    "one_way_anova_results = one_way_anova(df, AU_cols_cont)\n",
    "\n",
    "for key, values in one_way_anova_results.items():\n",
    "    print(key, values)"
   ]
  },
  {
   "cell_type": "markdown",
   "metadata": {},
   "source": [
    "Chi-Square for Binary AUs"
   ]
  },
  {
   "cell_type": "code",
   "execution_count": 22,
   "metadata": {},
   "outputs": [
    {
     "name": "stdout",
     "output_type": "stream",
     "text": [
      "AU04_c {'Chi2-Statistic': 1182.6407167389896, 'P-Value': 3.6139198767991143e-259}\n",
      "AU12_c {'Chi2-Statistic': 2219.1707451157104, 'P-Value': 0.0}\n",
      "AU15_c {'Chi2-Statistic': 2.945726546535248, 'P-Value': 0.0861049709966773}\n",
      "AU23_c {'Chi2-Statistic': 11.416840118680199, 'P-Value': 0.0007278137532326757}\n",
      "AU28_c {'Chi2-Statistic': 53.71072452517655, 'P-Value': 2.322917828016284e-13}\n",
      "AU45_c {'Chi2-Statistic': 43.61860516993711, 'P-Value': 3.9902737079575766e-11}\n"
     ]
    }
   ],
   "source": [
    "def chi_square_for_all(df, binary_aus):\n",
    "    results = {}\n",
    "    for au_col in binary_aus:\n",
    "        contingency_table = pd.crosstab(df[au_col], df[\"category\"])\n",
    "        chi2_stat, p_value = stats.chi2_contingency(contingency_table)[:2]\n",
    "        results[au_col] = {\"Chi2-Statistic\": chi2_stat, \"P-Value\": p_value}\n",
    "    return results\n",
    "\n",
    "# Run Chi-Square Tests\n",
    "chi2_results = chi_square_for_all(df, AU_cols_bin)\n",
    "\n",
    "for key, values in chi2_results.items():\n",
    "    print(key, values)"
   ]
  },
  {
   "cell_type": "markdown",
   "metadata": {},
   "source": [
    "## 2.2: Multiple AUs\n",
    "\n",
    "MANOVA for all continuous AUs at once"
   ]
  },
  {
   "cell_type": "code",
   "execution_count": 23,
   "metadata": {},
   "outputs": [
    {
     "name": "stdout",
     "output_type": "stream",
     "text": [
      "                     Multivariate linear model\n",
      "====================================================================\n",
      "                                                                    \n",
      "--------------------------------------------------------------------\n",
      "       Intercept        Value   Num DF    Den DF    F Value   Pr > F\n",
      "--------------------------------------------------------------------\n",
      "          Wilks' lambda 0.2601 14.0000 356852.0000 72497.6150 0.0000\n",
      "         Pillai's trace 0.7399 14.0000 356852.0000 72497.6150 0.0000\n",
      " Hotelling-Lawley trace 2.8442 14.0000 356852.0000 72497.6150 0.0000\n",
      "    Roy's greatest root 2.8442 14.0000 356852.0000 72497.6150 0.0000\n",
      "--------------------------------------------------------------------\n",
      "                                                                    \n",
      "--------------------------------------------------------------------\n",
      "        C(category)       Value   Num DF    Den DF   F Value  Pr > F\n",
      "--------------------------------------------------------------------\n",
      "            Wilks' lambda 0.9913 14.0000 356852.0000 222.6931 0.0000\n",
      "           Pillai's trace 0.0087 14.0000 356852.0000 222.6931 0.0000\n",
      "   Hotelling-Lawley trace 0.0087 14.0000 356852.0000 222.6931 0.0000\n",
      "      Roy's greatest root 0.0087 14.0000 356852.0000 222.6931 0.0000\n",
      "====================================================================\n",
      "\n"
     ]
    }
   ],
   "source": [
    "# Run MANOVA with all AUs as dependent variables\n",
    "def run_manova(df, au_cols):\n",
    "    formula = ' + '.join(au_cols)\n",
    "    model = MANOVA.from_formula(f'{formula} ~ C(category)', data=df)\n",
    "    return model.mv_test()\n",
    "\n",
    "manova_results = run_manova(df, AU_cols_cont)\n",
    "print(manova_results)"
   ]
  },
  {
   "cell_type": "code",
   "execution_count": 24,
   "metadata": {},
   "outputs": [
    {
     "name": "stdout",
     "output_type": "stream",
     "text": [
      "Two-Way ANOVA Results for AU01_r:\n",
      "                                      sum_sq        df            F  \\\n",
      "C(category)                        3.859579       1.0    18.696800   \n",
      "C(participant_id)               1244.067232       6.0  1004.430597   \n",
      "C(category):C(participant_id)     43.240116       6.0    34.911052   \n",
      "Residual                       73665.140065  356853.0          NaN   \n",
      "\n",
      "                                     PR(>F)  \n",
      "C(category)                    1.532809e-05  \n",
      "C(participant_id)              0.000000e+00  \n",
      "C(category):C(participant_id)  1.884697e-42  \n",
      "Residual                                NaN  \n",
      "Two-Way ANOVA Results for AU02_r:\n",
      "                                      sum_sq        df           F  \\\n",
      "C(category)                        0.125215       1.0    1.214980   \n",
      "C(participant_id)                325.707276       6.0  526.732692   \n",
      "C(category):C(participant_id)     16.356046       6.0   26.450942   \n",
      "Residual                       36776.914343  356853.0         NaN   \n",
      "\n",
      "                                     PR(>F)  \n",
      "C(category)                    2.703488e-01  \n",
      "C(participant_id)              0.000000e+00  \n",
      "C(category):C(participant_id)  1.131951e-31  \n",
      "Residual                                NaN  \n",
      "Two-Way ANOVA Results for AU04_r:\n",
      "                                       sum_sq        df             F  \\\n",
      "C(category)                       267.774463       1.0    678.079594   \n",
      "C(participant_id)              173507.288452       6.0  73228.137819   \n",
      "C(category):C(participant_id)    4766.036438       6.0   2011.488833   \n",
      "Residual                       140921.687233  356853.0           NaN   \n",
      "\n",
      "                                      PR(>F)  \n",
      "C(category)                    2.413663e-149  \n",
      "C(participant_id)               0.000000e+00  \n",
      "C(category):C(participant_id)   0.000000e+00  \n",
      "Residual                                 NaN  \n",
      "Two-Way ANOVA Results for AU05_r:\n",
      "                                      sum_sq        df           F  \\\n",
      "C(category)                        0.085491       1.0    2.430567   \n",
      "C(participant_id)                102.896894       6.0  487.569092   \n",
      "C(category):C(participant_id)      1.628995       6.0    7.718867   \n",
      "Residual                       12551.747622  356853.0         NaN   \n",
      "\n",
      "                                     PR(>F)  \n",
      "C(category)                    1.189907e-01  \n",
      "C(participant_id)              0.000000e+00  \n",
      "C(category):C(participant_id)  2.567720e-08  \n",
      "Residual                                NaN  \n",
      "Two-Way ANOVA Results for AU06_r:\n",
      "                                      sum_sq        df             F    PR(>F)\n",
      "C(category)                        0.027369       1.0      0.118671  0.730481\n",
      "C(participant_id)              77211.478264       6.0  55798.596566  0.000000\n",
      "C(category):C(participant_id)   1098.573214       6.0    793.908431  0.000000\n",
      "Residual                       82299.404610  356853.0           NaN       NaN\n",
      "Two-Way ANOVA Results for AU09_r:\n",
      "                                      sum_sq        df           F  \\\n",
      "C(category)                        2.716067       1.0   78.506475   \n",
      "C(participant_id)                134.809455       6.0  649.432603   \n",
      "C(category):C(participant_id)      9.719061       6.0   46.820714   \n",
      "Residual                       12345.945840  356853.0         NaN   \n",
      "\n",
      "                                     PR(>F)  \n",
      "C(category)                    8.009021e-19  \n",
      "C(participant_id)              0.000000e+00  \n",
      "C(category):C(participant_id)  1.051141e-57  \n",
      "Residual                                NaN  \n",
      "Two-Way ANOVA Results for AU10_r:\n",
      "                                       sum_sq        df             F  \\\n",
      "C(category)                        85.532214       1.0    261.376261   \n",
      "C(participant_id)               28082.414133       6.0  14302.752233   \n",
      "C(category):C(participant_id)     662.271040       6.0    337.303572   \n",
      "Residual                       116775.820106  356853.0           NaN   \n",
      "\n",
      "                                     PR(>F)  \n",
      "C(category)                    9.025297e-59  \n",
      "C(participant_id)              0.000000e+00  \n",
      "C(category):C(participant_id)  0.000000e+00  \n",
      "Residual                                NaN  \n",
      "Two-Way ANOVA Results for AU12_r:\n",
      "                                      sum_sq        df             F  \\\n",
      "C(category)                        8.213769       1.0     54.853446   \n",
      "C(participant_id)              46568.217122       6.0  51832.214862   \n",
      "C(category):C(participant_id)   1336.594810       6.0   1487.681377   \n",
      "Residual                       53435.262314  356853.0           NaN   \n",
      "\n",
      "                                     PR(>F)  \n",
      "C(category)                    1.301448e-13  \n",
      "C(participant_id)              0.000000e+00  \n",
      "C(category):C(participant_id)  0.000000e+00  \n",
      "Residual                                NaN  \n",
      "Two-Way ANOVA Results for AU14_r:\n",
      "                                       sum_sq        df             F  PR(>F)\n",
      "C(category)                       730.985563       1.0   2437.565099     0.0\n",
      "C(participant_id)               71954.051028       6.0  39990.001717     0.0\n",
      "C(category):C(participant_id)     723.403268       6.0    402.046827     0.0\n",
      "Residual                       107014.328038  356853.0           NaN     NaN\n",
      "Two-Way ANOVA Results for AU15_r:\n",
      "                                      sum_sq        df            F  \\\n",
      "C(category)                        2.159689       1.0    26.859592   \n",
      "C(participant_id)                509.394267       6.0  1055.871415   \n",
      "C(category):C(participant_id)     18.938765       6.0    39.256234   \n",
      "Residual                       28693.341119  356853.0          NaN   \n",
      "\n",
      "                                     PR(>F)  \n",
      "C(category)                    2.189045e-07  \n",
      "C(participant_id)              0.000000e+00  \n",
      "C(category):C(participant_id)  5.228936e-48  \n",
      "Residual                                NaN  \n",
      "Two-Way ANOVA Results for AU17_r:\n",
      "                                      sum_sq        df            F  \\\n",
      "C(category)                        9.439412       1.0    55.908785   \n",
      "C(participant_id)               1720.867156       6.0  1698.756715   \n",
      "C(category):C(participant_id)    371.425762       6.0   366.653524   \n",
      "Residual                       60249.612909  356853.0          NaN   \n",
      "\n",
      "                                     PR(>F)  \n",
      "C(category)                    7.608490e-14  \n",
      "C(participant_id)              0.000000e+00  \n",
      "C(category):C(participant_id)  0.000000e+00  \n",
      "Residual                                NaN  \n",
      "Two-Way ANOVA Results for AU20_r:\n",
      "                                      sum_sq        df           F  \\\n",
      "C(category)                        0.925759       1.0   17.537645   \n",
      "C(participant_id)                147.311559       6.0  465.113475   \n",
      "C(category):C(participant_id)     10.285767       6.0   32.475719   \n",
      "Residual                       18837.185131  356853.0         NaN   \n",
      "\n",
      "                                     PR(>F)  \n",
      "C(category)                    2.817426e-05  \n",
      "C(participant_id)              0.000000e+00  \n",
      "C(category):C(participant_id)  2.422415e-39  \n",
      "Residual                                NaN  \n",
      "Two-Way ANOVA Results for AU25_r:\n",
      "                                      sum_sq        df            F  \\\n",
      "C(category)                        2.000641       1.0     8.950495   \n",
      "C(participant_id)               2602.903902       6.0  1940.817669   \n",
      "C(category):C(participant_id)     39.518375       6.0    29.466305   \n",
      "Residual                       79764.840082  356853.0          NaN   \n",
      "\n",
      "                                     PR(>F)  \n",
      "C(category)                    2.774133e-03  \n",
      "C(participant_id)              0.000000e+00  \n",
      "C(category):C(participant_id)  1.658105e-35  \n",
      "Residual                                NaN  \n",
      "Two-Way ANOVA Results for AU26_r:\n",
      "                                      sum_sq        df            F  \\\n",
      "C(category)                        0.914035       1.0     4.092960   \n",
      "C(participant_id)               3207.031687       6.0  2393.463838   \n",
      "C(category):C(participant_id)    155.372900       6.0   115.957513   \n",
      "Residual                       79691.955251  356853.0          NaN   \n",
      "\n",
      "                                      PR(>F)  \n",
      "C(category)                     4.306290e-02  \n",
      "C(participant_id)               0.000000e+00  \n",
      "C(category):C(participant_id)  7.088994e-147  \n",
      "Residual                                 NaN  \n"
     ]
    }
   ],
   "source": [
    "from statsmodels.formula.api import ols\n",
    "from statsmodels.stats.anova import anova_lm\n",
    "\n",
    "# Two-Way ANOVA with interaction\n",
    "def run_two_way_anova_with_interaction(df, au_cols):\n",
    "    results = {}\n",
    "    for au_col in au_cols:\n",
    "        formula = f\"{au_col} ~ C(category) + C(participant_id) + C(category):C(participant_id)\"\n",
    "        model = ols(formula, data=df).fit()\n",
    "        anova_table = anova_lm(model, typ=2)\n",
    "        results[au_col] = anova_table\n",
    "    return results\n",
    "\n",
    "two_way_anova_results = run_two_way_anova_with_interaction(df, AU_cols_cont)\n",
    "\n",
    "# Check for significant interaction effects\n",
    "for au, table in two_way_anova_results.items():\n",
    "    print(f\"Two-Way ANOVA Results for {au}:\\n\", table)"
   ]
  },
  {
   "cell_type": "code",
   "execution_count": 37,
   "metadata": {},
   "outputs": [
    {
     "name": "stdout",
     "output_type": "stream",
     "text": [
      "Classification Report:\n",
      "              precision    recall  f1-score   support\n",
      "\n",
      "           0       1.00      1.00      1.00         9\n",
      "           1       1.00      1.00      1.00         9\n",
      "\n",
      "    accuracy                           1.00        18\n",
      "   macro avg       1.00      1.00      1.00        18\n",
      "weighted avg       1.00      1.00      1.00        18\n",
      "\n"
     ]
    },
    {
     "name": "stderr",
     "output_type": "stream",
     "text": [
      "C:\\Users\\bryan\\AppData\\Local\\Temp\\ipykernel_25648\\3624336322.py:25: VisibleDeprecationWarning: Creating an ndarray from ragged nested sequences (which is a list-or-tuple of lists-or-tuples-or ndarrays with different lengths or shapes) is deprecated. If you meant to do this, you must specify 'dtype=object' when creating the ndarray.\n",
      "  np.array(train_data),\n",
      "C:\\Users\\bryan\\AppData\\Local\\Temp\\ipykernel_25648\\3624336322.py:26: VisibleDeprecationWarning: Creating an ndarray from ragged nested sequences (which is a list-or-tuple of lists-or-tuples-or ndarrays with different lengths or shapes) is deprecated. If you meant to do this, you must specify 'dtype=object' when creating the ndarray.\n",
      "  np.array(test_data),\n"
     ]
    }
   ],
   "source": [
    "import numpy as np\n",
    "from sklearn.model_selection import train_test_split\n",
    "from sklearn.ensemble import RandomForestClassifier\n",
    "from sklearn.metrics import classification_report\n",
    "\n",
    "# Function to prepare data\n",
    "def prepare_time_series_data(df, au_col, exclude_ids=[\"S01\", \"S05\"]):\n",
    "    train_data = []\n",
    "    train_labels = []\n",
    "    test_data = []\n",
    "    test_labels = []\n",
    "\n",
    "    for participant_id, group in df.groupby([\"participant_id\", 'category', \"take\", \"part\"]):\n",
    "        participant_data = group[au_col].values\n",
    "        label = group[\"category\"].iloc[0]  # Get the category for this participant_id, take, and part\n",
    "\n",
    "        if participant_id[0] in exclude_ids:\n",
    "            test_data.append(participant_data)\n",
    "            test_labels.append(label)\n",
    "        else:\n",
    "            train_data.append(participant_data)\n",
    "            train_labels.append(label)\n",
    "\n",
    "    return (\n",
    "        np.array(train_data),\n",
    "        np.array(test_data),\n",
    "        np.array(train_labels),\n",
    "        np.array(test_labels),\n",
    "    )\n",
    "\n",
    "# Prepare data\n",
    "X_train, X_test, y_train, y_test = prepare_time_series_data(df, \"AU45_c\") # Input any AU column\n",
    "\n",
    "# Handle potential missing data (e.g., unequal number of frames)\n",
    "# Pad to the maximum input length\n",
    "max_length = max([len(x) for x in np.concatenate([X_train, X_test])])\n",
    "X_train = np.array([np.pad(x, (0, max_length - len(x)), constant_values=0) for x in X_train])\n",
    "X_test = np.array([np.pad(x, (0, max_length - len(x)), constant_values=0) for x in X_test])\n",
    "\n",
    "# Train a random forest classifier\n",
    "clf = RandomForestClassifier(random_state=42)\n",
    "clf.fit(X_train, y_train)\n",
    "\n",
    "# Test the classifier\n",
    "y_pred = clf.predict(X_test)\n",
    "\n",
    "# Evaluate performance\n",
    "print(\"Classification Report:\")\n",
    "print(classification_report(y_test, y_pred))"
   ]
  },
  {
   "cell_type": "code",
   "execution_count": null,
   "metadata": {},
   "outputs": [],
   "source": []
  }
 ],
 "metadata": {
  "kernelspec": {
   "display_name": ".venv",
   "language": "python",
   "name": "python3"
  },
  "language_info": {
   "codemirror_mode": {
    "name": "ipython",
    "version": 3
   },
   "file_extension": ".py",
   "mimetype": "text/x-python",
   "name": "python",
   "nbconvert_exporter": "python",
   "pygments_lexer": "ipython3",
   "version": "3.9.12"
  }
 },
 "nbformat": 4,
 "nbformat_minor": 2
}
