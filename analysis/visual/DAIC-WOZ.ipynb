{
 "cells": [
  {
   "cell_type": "code",
   "execution_count": 1,
   "metadata": {},
   "outputs": [],
   "source": [
    "import os\n",
    "import pandas as pd\n",
    "import scipy.stats as stats\n",
    "from statsmodels.multivariate.manova import MANOVA"
   ]
  },
  {
   "cell_type": "markdown",
   "metadata": {},
   "source": [
    "# 1: Read Data"
   ]
  },
  {
   "cell_type": "markdown",
   "metadata": {},
   "source": [
    "## 1.1: Concatenate data into single dataframe"
   ]
  },
  {
   "cell_type": "code",
   "execution_count": 2,
   "metadata": {},
   "outputs": [],
   "source": [
    "def concat_au_files(directory: str, speaking_only: bool = False):\n",
    "    \"\"\"\n",
    "    Combines XXX_CLNF_AUs.txt files into a single DataFrame.\n",
    "    When speaking_only is True, includes only rows where the participant is speaking\n",
    "    based on the corresponding XXX_TRANSCRIPT.csv files.\n",
    "\n",
    "    Args:\n",
    "        directory (str): Path to the directory containing AU and transcript files.\n",
    "        speaking_only (bool): Whether to include only participant-speaking rows.\n",
    "\n",
    "    Returns:\n",
    "        pd.DataFrame: Combined DataFrame of all AU files.\n",
    "    \"\"\"\n",
    "    dfs = []\n",
    "\n",
    "    for root, dirs, files in os.walk(directory):\n",
    "        for file_name in files:\n",
    "            if file_name.endswith(\"_CLNF_AUs.txt\"):\n",
    "                participant_id = file_name.split(\"_\")[0]\n",
    "    \n",
    "                print(f\"Reading Participant ID: {participant_id}...\", end='\\r')\n",
    "\n",
    "                au_file_path = os.path.join(root, file_name)\n",
    "                df = pd.read_csv(au_file_path)\n",
    "                df['Participant_ID'] = participant_id  # Add Participant_ID column\n",
    "\n",
    "                \n",
    "                transcript_file = os.path.join(root, f\"{participant_id}_TRANSCRIPT.csv\")\n",
    "                if os.path.exists(transcript_file):\n",
    "                    # Load the transcript file with specific delimiters\n",
    "                    transcript_df = pd.read_csv(\n",
    "                        transcript_file,\n",
    "                        sep=r\"\\s+\",  # One or more whitespaces as the delimiter\n",
    "                        engine=\"python\",\n",
    "                        skiprows=1,  # Skip the first header row\n",
    "                        header=None,\n",
    "                        usecols=[0, 1, 2],  # Only load the columns we care about\n",
    "                        names=['start_time', 'stop_time', 'speaker'],\n",
    "                    )\n",
    "\n",
    "                    # If speaking_only is True, filter the rows\n",
    "                    if speaking_only:\n",
    "                        # Filter to include only Participant speaking rows\n",
    "                        participant_speaking = transcript_df[transcript_df['speaker'] == \"Participant\"]\n",
    "\n",
    "                        # Retain rows in AU data where timestamp falls within speaking intervals\n",
    "                        mask = df[' timestamp'].apply(\n",
    "                            lambda t: any(\n",
    "                                (participant_speaking['start_time'] <= t) &\n",
    "                                (t <= participant_speaking['stop_time'])\n",
    "                            )\n",
    "                        )\n",
    "                        df = df[mask]\n",
    "\n",
    "                    else:\n",
    "                        actual_start_time = None\n",
    "                        for _, row in transcript_df.iterrows():\n",
    "                            start_time = row['start_time']\n",
    "                            stop_time = row['stop_time'] \n",
    "                            speaker = row[\"speaker\"]\n",
    "\n",
    "                            if speaker == \"Ellie\":\n",
    "                                actual_start_time = start_time\n",
    "                                break\n",
    "\n",
    "                        df = df[df[\" timestamp\"] >= actual_start_time]\n",
    "\n",
    "                        \n",
    "\n",
    "                    dfs.append(df)\n",
    "\n",
    "    # Combine into a single DataFrame\n",
    "    combined_df = pd.concat(dfs, ignore_index=True)\n",
    "\n",
    "    return combined_df\n"
   ]
  },
  {
   "cell_type": "code",
   "execution_count": 3,
   "metadata": {},
   "outputs": [
    {
     "name": "stdout",
     "output_type": "stream",
     "text": [
      "Reading Participant ID: 492...\r"
     ]
    }
   ],
   "source": [
    "df = concat_au_files(\"../../data/DAIC-WOZ/\", speaking_only=False)"
   ]
  },
  {
   "cell_type": "code",
   "execution_count": 4,
   "metadata": {},
   "outputs": [
    {
     "name": "stdout",
     "output_type": "stream",
     "text": [
      "Unsuccessful frames in data to be removed: 4.817401752851014%\n"
     ]
    }
   ],
   "source": [
    "# Remove non-successful feature extraction rows\n",
    "print(f\"Unsuccessful frames in data to be removed: {(1 - df[' success'].sum() / df.shape[0]) * 100}%\")\n",
    "df = df[df[\" success\"] == 1] "
   ]
  },
  {
   "cell_type": "code",
   "execution_count": 5,
   "metadata": {},
   "outputs": [
    {
     "name": "stdout",
     "output_type": "stream",
     "text": [
      "\n",
      "Unique videos: 186\n",
      "Total processed frames: 4874871\n",
      "Avg frames per video: 26208.983870967742\n",
      "Memory used: 1.1804201267659664 GB\n"
     ]
    }
   ],
   "source": [
    "print(f\"\\nUnique videos: {df.Participant_ID.nunique()}\")\n",
    "print(f\"Total processed frames: {df.shape[0]}\")\n",
    "print(f\"Avg frames per video: {df.groupby('Participant_ID').size().mean()}\")\n",
    "print(f\"Memory used: {df.memory_usage(deep=True).sum() / (1024 **3)} GB\")"
   ]
  },
  {
   "cell_type": "markdown",
   "metadata": {},
   "source": [
    "## 1.2: Clean Sessions with Special Notes"
   ]
  },
  {
   "cell_type": "markdown",
   "metadata": {},
   "source": [
    "373 – there is an interruption around 5:52-7:00, the confederate enters the room to fix a minor \n",
    "technical issue, the session continuous and completes ."
   ]
  },
  {
   "cell_type": "code",
   "execution_count": 6,
   "metadata": {},
   "outputs": [],
   "source": [
    "cond = (df[\"Participant_ID\"] == \"373\") & (df[\" timestamp\"] >= 5*60 + 52) & (df[\" timestamp\"] <= 7*60)\n",
    "df = df.drop(df[cond].index)"
   ]
  },
  {
   "cell_type": "markdown",
   "metadata": {},
   "source": [
    "444 – there is an interruption around 4:46-6:27, the participant’s phone rings and the \n",
    "confederate enters the room to help them turn it off. Session continuous and completes."
   ]
  },
  {
   "cell_type": "code",
   "execution_count": 7,
   "metadata": {},
   "outputs": [],
   "source": [
    "cond = (df[\"Participant_ID\"] == \"444\") & (df[\" timestamp\"] >= 4*60 + 46) & (df[\" timestamp\"] <= 6*60 + 27)\n",
    "df = df.drop(df[cond].index)"
   ]
  },
  {
   "cell_type": "code",
   "execution_count": 8,
   "metadata": {},
   "outputs": [
    {
     "name": "stdout",
     "output_type": "stream",
     "text": [
      "\n",
      "Unique videos: 186\n",
      "Total processed frames: 4870771\n",
      "Avg frames per video: 26186.940860215054\n",
      "Memory used: 1.1794273369014263 GB\n"
     ]
    }
   ],
   "source": [
    "print(f\"\\nUnique videos: {df.Participant_ID.nunique()}\")\n",
    "print(f\"Total processed frames: {df.shape[0]}\")\n",
    "print(f\"Avg frames per video: {df.groupby('Participant_ID').size().mean()}\")\n",
    "print(f\"Memory used: {df.memory_usage(deep=True).sum() / (1024 **3)} GB\")"
   ]
  },
  {
   "cell_type": "markdown",
   "metadata": {},
   "source": [
    "## 1.3 Join with Split Datafarames for \"Gender\" and \"PHQ8_Score\""
   ]
  },
  {
   "cell_type": "code",
   "execution_count": 9,
   "metadata": {},
   "outputs": [],
   "source": [
    "# Read the splits CSV files\n",
    "train_split_df = pd.read_csv(\"../../data/DAIC-WOZ/train_split_Depression_AVEC2017.csv\")\n",
    "validation_split_df  = pd.read_csv(\"../../data/DAIC-WOZ/dev_split_Depression_AVEC2017.csv\")\n",
    "test_split_df  = pd.read_csv(\"../../data/DAIC-WOZ/full_test_split.csv\")\n",
    "test_split_df = test_split_df.rename(columns={\"PHQ_Score\": \"PHQ8_Score\"})"
   ]
  },
  {
   "cell_type": "code",
   "execution_count": 10,
   "metadata": {},
   "outputs": [],
   "source": [
    "# Combine splits data\n",
    "participant_info_df = pd.concat([train_split_df , validation_split_df , test_split_df ], ignore_index=True)\n",
    "participant_info_df = participant_info_df[['Participant_ID', 'Gender', 'PHQ8_Score']]\n",
    "participant_info_df['Participant_ID'] = participant_info_df['Participant_ID'].astype(str)"
   ]
  },
  {
   "cell_type": "code",
   "execution_count": 11,
   "metadata": {},
   "outputs": [],
   "source": [
    "# Replace PHQ8_Score with Category\n",
    "def categorize_phq8(score):\n",
    "    if 0 <= score <= 9:\n",
    "        return '0'\n",
    "    else:\n",
    "        return '1'\n",
    "    \n",
    "participant_info_df['Category'] = participant_info_df['PHQ8_Score'].apply(categorize_phq8)\n",
    "participant_info_df.drop('PHQ8_Score', axis=1, inplace=True)"
   ]
  },
  {
   "cell_type": "code",
   "execution_count": 12,
   "metadata": {},
   "outputs": [
    {
     "name": "stdout",
     "output_type": "stream",
     "text": [
      "<class 'pandas.core.frame.DataFrame'>\n",
      "RangeIndex: 189 entries, 0 to 188\n",
      "Data columns (total 3 columns):\n",
      " #   Column          Non-Null Count  Dtype \n",
      "---  ------          --------------  ----- \n",
      " 0   Participant_ID  189 non-null    object\n",
      " 1   Gender          189 non-null    int64 \n",
      " 2   Category        189 non-null    object\n",
      "dtypes: int64(1), object(2)\n",
      "memory usage: 4.6+ KB\n"
     ]
    }
   ],
   "source": [
    "participant_info_df.info()"
   ]
  },
  {
   "cell_type": "code",
   "execution_count": 19,
   "metadata": {},
   "outputs": [
    {
     "data": {
      "text/html": [
       "<div>\n",
       "<style scoped>\n",
       "    .dataframe tbody tr th:only-of-type {\n",
       "        vertical-align: middle;\n",
       "    }\n",
       "\n",
       "    .dataframe tbody tr th {\n",
       "        vertical-align: top;\n",
       "    }\n",
       "\n",
       "    .dataframe thead th {\n",
       "        text-align: right;\n",
       "    }\n",
       "</style>\n",
       "<table border=\"1\" class=\"dataframe\">\n",
       "  <thead>\n",
       "    <tr style=\"text-align: right;\">\n",
       "      <th></th>\n",
       "      <th>Gender</th>\n",
       "      <th>Category</th>\n",
       "      <th>Count</th>\n",
       "    </tr>\n",
       "  </thead>\n",
       "  <tbody>\n",
       "    <tr>\n",
       "      <th>0</th>\n",
       "      <td>0</td>\n",
       "      <td>0</td>\n",
       "      <td>56</td>\n",
       "    </tr>\n",
       "    <tr>\n",
       "      <th>1</th>\n",
       "      <td>0</td>\n",
       "      <td>1</td>\n",
       "      <td>31</td>\n",
       "    </tr>\n",
       "    <tr>\n",
       "      <th>2</th>\n",
       "      <td>1</td>\n",
       "      <td>0</td>\n",
       "      <td>76</td>\n",
       "    </tr>\n",
       "    <tr>\n",
       "      <th>3</th>\n",
       "      <td>1</td>\n",
       "      <td>1</td>\n",
       "      <td>26</td>\n",
       "    </tr>\n",
       "  </tbody>\n",
       "</table>\n",
       "</div>"
      ],
      "text/plain": [
       "   Gender Category  Count\n",
       "0       0        0     56\n",
       "1       0        1     31\n",
       "2       1        0     76\n",
       "3       1        1     26"
      ]
     },
     "execution_count": 19,
     "metadata": {},
     "output_type": "execute_result"
    }
   ],
   "source": [
    "participant_info_df.groupby(['Gender', 'Category']).size().reset_index(name='Count')"
   ]
  },
  {
   "cell_type": "code",
   "execution_count": 13,
   "metadata": {},
   "outputs": [
    {
     "name": "stdout",
     "output_type": "stream",
     "text": [
      "\n",
      "Unique videos: 186\n",
      "Total processed frames: 4870771\n",
      "Avg frames per video: 26186.940860215054\n",
      "Memory used: 1.4425304774194956 GB\n"
     ]
    }
   ],
   "source": [
    "df = df.merge(participant_info_df, on='Participant_ID', how='left')\n",
    "\n",
    "print(f\"\\nUnique videos: {df.Participant_ID.nunique()}\")\n",
    "print(f\"Total processed frames: {df.shape[0]}\")\n",
    "print(f\"Avg frames per video: {df.groupby('Participant_ID').size().mean()}\")\n",
    "print(f\"Memory used: {df.memory_usage(deep=True).sum() / (1024 **3)} GB\")"
   ]
  },
  {
   "cell_type": "markdown",
   "metadata": {},
   "source": [
    "## 1.4: Preview"
   ]
  },
  {
   "cell_type": "code",
   "execution_count": 14,
   "metadata": {},
   "outputs": [
    {
     "name": "stdout",
     "output_type": "stream",
     "text": [
      "<class 'pandas.core.frame.DataFrame'>\n",
      "RangeIndex: 4870771 entries, 0 to 4870770\n",
      "Data columns (total 27 columns):\n",
      " #   Column          Dtype  \n",
      "---  ------          -----  \n",
      " 0   frame           int64  \n",
      " 1    timestamp      float64\n",
      " 2    confidence     float64\n",
      " 3    success        int64  \n",
      " 4    AU01_r         float64\n",
      " 5    AU02_r         float64\n",
      " 6    AU04_r         float64\n",
      " 7    AU05_r         float64\n",
      " 8    AU06_r         float64\n",
      " 9    AU09_r         float64\n",
      " 10   AU10_r         float64\n",
      " 11   AU12_r         float64\n",
      " 12   AU14_r         float64\n",
      " 13   AU15_r         float64\n",
      " 14   AU17_r         float64\n",
      " 15   AU20_r         float64\n",
      " 16   AU25_r         float64\n",
      " 17   AU26_r         float64\n",
      " 18   AU04_c         int64  \n",
      " 19   AU12_c         int64  \n",
      " 20   AU15_c         int64  \n",
      " 21   AU23_c         int64  \n",
      " 22   AU28_c         int64  \n",
      " 23   AU45_c         int64  \n",
      " 24  Participant_ID  object \n",
      " 25  Gender          int64  \n",
      " 26  Category        object \n",
      "dtypes: float64(16), int64(9), object(2)\n",
      "memory usage: 1003.3+ MB\n"
     ]
    }
   ],
   "source": [
    "df.info()"
   ]
  },
  {
   "cell_type": "code",
   "execution_count": 15,
   "metadata": {},
   "outputs": [
    {
     "data": {
      "text/html": [
       "<div>\n",
       "<style scoped>\n",
       "    .dataframe tbody tr th:only-of-type {\n",
       "        vertical-align: middle;\n",
       "    }\n",
       "\n",
       "    .dataframe tbody tr th {\n",
       "        vertical-align: top;\n",
       "    }\n",
       "\n",
       "    .dataframe thead th {\n",
       "        text-align: right;\n",
       "    }\n",
       "</style>\n",
       "<table border=\"1\" class=\"dataframe\">\n",
       "  <thead>\n",
       "    <tr style=\"text-align: right;\">\n",
       "      <th></th>\n",
       "      <th>frame</th>\n",
       "      <th>timestamp</th>\n",
       "      <th>confidence</th>\n",
       "      <th>success</th>\n",
       "      <th>AU01_r</th>\n",
       "      <th>AU02_r</th>\n",
       "      <th>AU04_r</th>\n",
       "      <th>AU05_r</th>\n",
       "      <th>AU06_r</th>\n",
       "      <th>AU09_r</th>\n",
       "      <th>...</th>\n",
       "      <th>AU26_r</th>\n",
       "      <th>AU04_c</th>\n",
       "      <th>AU12_c</th>\n",
       "      <th>AU15_c</th>\n",
       "      <th>AU23_c</th>\n",
       "      <th>AU28_c</th>\n",
       "      <th>AU45_c</th>\n",
       "      <th>Participant_ID</th>\n",
       "      <th>Gender</th>\n",
       "      <th>Category</th>\n",
       "    </tr>\n",
       "  </thead>\n",
       "  <tbody>\n",
       "    <tr>\n",
       "      <th>0</th>\n",
       "      <td>1099</td>\n",
       "      <td>36.6000</td>\n",
       "      <td>0.971387</td>\n",
       "      <td>1</td>\n",
       "      <td>0.0</td>\n",
       "      <td>0.0</td>\n",
       "      <td>0.0</td>\n",
       "      <td>0.707505</td>\n",
       "      <td>0.000000</td>\n",
       "      <td>0.000000</td>\n",
       "      <td>...</td>\n",
       "      <td>0.0</td>\n",
       "      <td>0</td>\n",
       "      <td>0</td>\n",
       "      <td>0</td>\n",
       "      <td>1</td>\n",
       "      <td>0</td>\n",
       "      <td>0</td>\n",
       "      <td>300</td>\n",
       "      <td>1</td>\n",
       "      <td>0</td>\n",
       "    </tr>\n",
       "    <tr>\n",
       "      <th>1</th>\n",
       "      <td>1100</td>\n",
       "      <td>36.6333</td>\n",
       "      <td>0.972090</td>\n",
       "      <td>1</td>\n",
       "      <td>0.0</td>\n",
       "      <td>0.0</td>\n",
       "      <td>0.0</td>\n",
       "      <td>0.750787</td>\n",
       "      <td>0.000000</td>\n",
       "      <td>0.000000</td>\n",
       "      <td>...</td>\n",
       "      <td>0.0</td>\n",
       "      <td>0</td>\n",
       "      <td>0</td>\n",
       "      <td>0</td>\n",
       "      <td>1</td>\n",
       "      <td>0</td>\n",
       "      <td>0</td>\n",
       "      <td>300</td>\n",
       "      <td>1</td>\n",
       "      <td>0</td>\n",
       "    </tr>\n",
       "    <tr>\n",
       "      <th>2</th>\n",
       "      <td>1101</td>\n",
       "      <td>36.6667</td>\n",
       "      <td>0.971037</td>\n",
       "      <td>1</td>\n",
       "      <td>0.0</td>\n",
       "      <td>0.0</td>\n",
       "      <td>0.0</td>\n",
       "      <td>0.641022</td>\n",
       "      <td>0.578254</td>\n",
       "      <td>0.538955</td>\n",
       "      <td>...</td>\n",
       "      <td>0.0</td>\n",
       "      <td>0</td>\n",
       "      <td>0</td>\n",
       "      <td>0</td>\n",
       "      <td>1</td>\n",
       "      <td>0</td>\n",
       "      <td>0</td>\n",
       "      <td>300</td>\n",
       "      <td>1</td>\n",
       "      <td>0</td>\n",
       "    </tr>\n",
       "    <tr>\n",
       "      <th>3</th>\n",
       "      <td>1102</td>\n",
       "      <td>36.7000</td>\n",
       "      <td>0.974087</td>\n",
       "      <td>1</td>\n",
       "      <td>0.0</td>\n",
       "      <td>0.0</td>\n",
       "      <td>0.0</td>\n",
       "      <td>0.640049</td>\n",
       "      <td>0.000000</td>\n",
       "      <td>0.000000</td>\n",
       "      <td>...</td>\n",
       "      <td>0.0</td>\n",
       "      <td>0</td>\n",
       "      <td>0</td>\n",
       "      <td>0</td>\n",
       "      <td>1</td>\n",
       "      <td>0</td>\n",
       "      <td>0</td>\n",
       "      <td>300</td>\n",
       "      <td>1</td>\n",
       "      <td>0</td>\n",
       "    </tr>\n",
       "    <tr>\n",
       "      <th>4</th>\n",
       "      <td>1103</td>\n",
       "      <td>36.7333</td>\n",
       "      <td>0.972015</td>\n",
       "      <td>1</td>\n",
       "      <td>0.0</td>\n",
       "      <td>0.0</td>\n",
       "      <td>0.0</td>\n",
       "      <td>0.620604</td>\n",
       "      <td>0.539977</td>\n",
       "      <td>0.000000</td>\n",
       "      <td>...</td>\n",
       "      <td>0.0</td>\n",
       "      <td>0</td>\n",
       "      <td>0</td>\n",
       "      <td>0</td>\n",
       "      <td>1</td>\n",
       "      <td>0</td>\n",
       "      <td>0</td>\n",
       "      <td>300</td>\n",
       "      <td>1</td>\n",
       "      <td>0</td>\n",
       "    </tr>\n",
       "  </tbody>\n",
       "</table>\n",
       "<p>5 rows × 27 columns</p>\n",
       "</div>"
      ],
      "text/plain": [
       "   frame   timestamp   confidence   success   AU01_r   AU02_r   AU04_r  \\\n",
       "0   1099     36.6000     0.971387         1      0.0      0.0      0.0   \n",
       "1   1100     36.6333     0.972090         1      0.0      0.0      0.0   \n",
       "2   1101     36.6667     0.971037         1      0.0      0.0      0.0   \n",
       "3   1102     36.7000     0.974087         1      0.0      0.0      0.0   \n",
       "4   1103     36.7333     0.972015         1      0.0      0.0      0.0   \n",
       "\n",
       "     AU05_r    AU06_r    AU09_r  ...   AU26_r   AU04_c   AU12_c   AU15_c  \\\n",
       "0  0.707505  0.000000  0.000000  ...      0.0        0        0        0   \n",
       "1  0.750787  0.000000  0.000000  ...      0.0        0        0        0   \n",
       "2  0.641022  0.578254  0.538955  ...      0.0        0        0        0   \n",
       "3  0.640049  0.000000  0.000000  ...      0.0        0        0        0   \n",
       "4  0.620604  0.539977  0.000000  ...      0.0        0        0        0   \n",
       "\n",
       "    AU23_c   AU28_c   AU45_c  Participant_ID  Gender  Category  \n",
       "0        1        0        0             300       1         0  \n",
       "1        1        0        0             300       1         0  \n",
       "2        1        0        0             300       1         0  \n",
       "3        1        0        0             300       1         0  \n",
       "4        1        0        0             300       1         0  \n",
       "\n",
       "[5 rows x 27 columns]"
      ]
     },
     "execution_count": 15,
     "metadata": {},
     "output_type": "execute_result"
    }
   ],
   "source": [
    "df.head()"
   ]
  },
  {
   "cell_type": "code",
   "execution_count": 16,
   "metadata": {},
   "outputs": [],
   "source": [
    "# Filter columns starting with 'AU'\n",
    "AU_cols = df.filter(like=\"AU\").columns\n",
    "AU_cols_bin = df.filter(regex=\"AU\\d+_c\").columns\n",
    "AU_cols_cont = df.filter(regex=\"AU\\d+_r\").columns"
   ]
  },
  {
   "cell_type": "code",
   "execution_count": 17,
   "metadata": {},
   "outputs": [
    {
     "data": {
      "text/plain": [
       "<Axes: >"
      ]
     },
     "execution_count": 17,
     "metadata": {},
     "output_type": "execute_result"
    },
    {
     "data": {
      "image/png": "[encoded data removed]",
      "text/plain": [
       "<Figure size 640x480 with 1 Axes>"
      ]
     },
     "metadata": {},
     "output_type": "display_data"
    }
   ],
   "source": [
    "# Group by the extracted keys and calculate mean for AU columns\n",
    "AU_means = df.groupby(['Category'])[AU_cols].mean().T\n",
    "\n",
    "AU_means.plot(kind='bar')"
   ]
  },
  {
   "cell_type": "markdown",
   "metadata": {},
   "source": [
    "# 2: Statistical Tests"
   ]
  },
  {
   "cell_type": "markdown",
   "metadata": {},
   "source": [
    "## 2.1: Individual AUs"
   ]
  },
  {
   "cell_type": "markdown",
   "metadata": {},
   "source": [
    "One-Way ANOVA for Continuous AUs"
   ]
  },
  {
   "cell_type": "code",
   "execution_count": 20,
   "metadata": {},
   "outputs": [
    {
     "name": "stdout",
     "output_type": "stream",
     "text": [
      " AU01_r {'F-Statistic': 3071.5207582835774, 'P-Value': 0.0}\n",
      " AU02_r {'F-Statistic': 2944.9170754195193, 'P-Value': 0.0}\n",
      " AU04_r {'F-Statistic': 97.58016900129321, 'P-Value': 5.1745119061718254e-23}\n",
      " AU05_r {'F-Statistic': 977.3184747194201, 'P-Value': 1.6062024689570315e-214}\n",
      " AU06_r {'F-Statistic': 176.61530758353098, 'P-Value': 2.661810778112581e-40}\n",
      " AU09_r {'F-Statistic': 2268.884867397547, 'P-Value': 0.0}\n",
      " AU10_r {'F-Statistic': 1119.024062617719, 'P-Value': 2.5828779470750155e-245}\n",
      " AU12_r {'F-Statistic': 17.007888573667053, 'P-Value': 3.722545523299194e-05}\n",
      " AU14_r {'F-Statistic': 1364.6025600987427, 'P-Value': 1.1376276257723865e-298}\n",
      " AU15_r {'F-Statistic': 1924.2111084085395, 'P-Value': 0.0}\n",
      " AU17_r {'F-Statistic': 8148.683849366347, 'P-Value': 0.0}\n",
      " AU20_r {'F-Statistic': 43.77207705737286, 'P-Value': 3.689691997198994e-11}\n",
      " AU25_r {'F-Statistic': 29.304332345703703, 'P-Value': 6.186015019304671e-08}\n",
      " AU26_r {'F-Statistic': 666.1211171063164, 'P-Value': 7.129692616936958e-147}\n"
     ]
    }
   ],
   "source": [
    "def one_way_anova(df, continuous_aus):\n",
    "    results = {}\n",
    "    for au_col in continuous_aus:\n",
    "        groups = [df[df[\"Category\"] == cat][au_col] for cat in df[\"Category\"].unique()]\n",
    "        f_stat, p_value = stats.f_oneway(*groups)\n",
    "        results[au_col] = {\"F-Statistic\": f_stat, \"P-Value\": p_value}\n",
    "    return results\n",
    "\n",
    "# Run One-Way ANOVA\n",
    "one_way_anova_results = one_way_anova(df, AU_cols_cont)\n",
    "\n",
    "for key, values in one_way_anova_results.items():\n",
    "    print(key, values)"
   ]
  },
  {
   "cell_type": "markdown",
   "metadata": {},
   "source": [
    "Chi-Square for Binary AUs"
   ]
  },
  {
   "cell_type": "code",
   "execution_count": 21,
   "metadata": {},
   "outputs": [
    {
     "name": "stdout",
     "output_type": "stream",
     "text": [
      " AU04_c {'Chi2-Statistic': 2404.624746453936, 'P-Value': 0.0}\n",
      " AU12_c {'Chi2-Statistic': 1806.7849208572616, 'P-Value': 0.0}\n",
      " AU15_c {'Chi2-Statistic': 17.70605308118845, 'P-Value': 2.5780492759669915e-05}\n",
      " AU23_c {'Chi2-Statistic': 2930.756955965126, 'P-Value': 0.0}\n",
      " AU28_c {'Chi2-Statistic': 5321.191151476965, 'P-Value': 0.0}\n",
      " AU45_c {'Chi2-Statistic': 6397.731014837063, 'P-Value': 0.0}\n"
     ]
    }
   ],
   "source": [
    "def chi_square_for_all(df, binary_aus):\n",
    "    results = {}\n",
    "    for au_col in binary_aus:\n",
    "        contingency_table = pd.crosstab(df[au_col], df[\"Category\"])\n",
    "        chi2_stat, p_value = stats.chi2_contingency(contingency_table)[:2]\n",
    "        results[au_col] = {\"Chi2-Statistic\": chi2_stat, \"P-Value\": p_value}\n",
    "    return results\n",
    "\n",
    "# Run Chi-Square Tests\n",
    "chi2_results = chi_square_for_all(df, AU_cols_bin)\n",
    " \n",
    "for key, values in chi2_results.items():\n",
    "    print(key, values)"
   ]
  },
  {
   "cell_type": "markdown",
   "metadata": {},
   "source": [
    "## 2.2: Multiple AUs"
   ]
  },
  {
   "cell_type": "markdown",
   "metadata": {},
   "source": [
    "MANOVA for all continuous AUs at once"
   ]
  },
  {
   "cell_type": "code",
   "execution_count": null,
   "metadata": {},
   "outputs": [],
   "source": [
    "# Run MANOVA with all AUs as dependent variables\n",
    "# def run_manova(df, au_cols):\n",
    "#     formula = ' + '.join(au_cols)\n",
    "#     model = MANOVA.from_formula(f'{formula} ~ C(Category)', data=df)\n",
    "#     return model.mv_test()\n",
    "\n",
    "# manova_results = run_manova(df, AU_cols_cont)\n",
    "# print(manova_results)"
   ]
  },
  {
   "cell_type": "markdown",
   "metadata": {},
   "source": [
    "# 3. ML Testing"
   ]
  },
  {
   "cell_type": "markdown",
   "metadata": {},
   "source": [
    "## 3.1 Single Category"
   ]
  },
  {
   "cell_type": "code",
   "execution_count": 22,
   "metadata": {},
   "outputs": [
    {
     "name": "stderr",
     "output_type": "stream",
     "text": [
      "C:\\Users\\bryan\\AppData\\Local\\Temp\\ipykernel_8884\\2325770222.py:27: VisibleDeprecationWarning: Creating an ndarray from ragged nested sequences (which is a list-or-tuple of lists-or-tuples-or ndarrays with different lengths or shapes) is deprecated. If you meant to do this, you must specify 'dtype=object' when creating the ndarray.\n",
      "  np.array(train_data),\n",
      "C:\\Users\\bryan\\AppData\\Local\\Temp\\ipykernel_8884\\2325770222.py:28: VisibleDeprecationWarning: Creating an ndarray from ragged nested sequences (which is a list-or-tuple of lists-or-tuples-or ndarrays with different lengths or shapes) is deprecated. If you meant to do this, you must specify 'dtype=object' when creating the ndarray.\n",
      "  np.array(test_data),\n"
     ]
    },
    {
     "name": "stdout",
     "output_type": "stream",
     "text": [
      "Confusion Matrix:\n",
      "[[28  4]\n",
      " [14  0]]\n",
      "Classification Report:\n",
      "              precision    recall  f1-score   support\n",
      "\n",
      "           0       0.67      0.88      0.76        32\n",
      "           1       0.00      0.00      0.00        14\n",
      "\n",
      "    accuracy                           0.61        46\n",
      "   macro avg       0.33      0.44      0.38        46\n",
      "weighted avg       0.46      0.61      0.53        46\n",
      "\n"
     ]
    }
   ],
   "source": [
    "import numpy as np\n",
    "from sklearn.model_selection import train_test_split\n",
    "from sklearn.ensemble import RandomForestClassifier\n",
    "from sklearn.metrics import classification_report, confusion_matrix\n",
    "\n",
    "# Function to prepare data\n",
    "def prepare_time_series_data(df, au_col):\n",
    "    train_data = []\n",
    "    train_labels = []\n",
    "    test_data = []\n",
    "    test_labels = []\n",
    "\n",
    "\n",
    "    for participant_id, group in df.groupby([\"Participant_ID\", 'Category']):\n",
    "        participant_data = group[au_col].values \n",
    "        label = group[\"Category\"].iloc[0]  # Get the category for this participant_id\n",
    "\n",
    "        if int(participant_id[0]) in test_split_df['Participant_ID'].values:\n",
    "            test_data.append(participant_data)\n",
    "            test_labels.append(label)\n",
    "\n",
    "        elif int(participant_id[0]) in train_split_df['Participant_ID'].values:\n",
    "            train_data.append(participant_data)\n",
    "            train_labels.append(label)\n",
    "\n",
    "    return (\n",
    "        np.array(train_data),\n",
    "        np.array(test_data),\n",
    "        np.array(train_labels),\n",
    "        np.array(test_labels),\n",
    "    )\n",
    "\n",
    "# Prepare data\n",
    "X_train, X_test, y_train, y_test = prepare_time_series_data(df, \" AU14_r\") # Input any AU column\n",
    "\n",
    "# Handle potential missing data (e.g., unequal number of frames)\n",
    "# Pad to the maximum input length\n",
    "max_length = max([len(x) for x in np.concatenate([X_train, X_test])])\n",
    "X_train = np.array([np.pad(x, (0, max_length - len(x)), constant_values=0) for x in X_train])\n",
    "X_test = np.array([np.pad(x, (0, max_length - len(x)), constant_values=0) for x in X_test])\n",
    "\n",
    "# Train a random forest classifier\n",
    "clf = RandomForestClassifier(random_state=42)\n",
    "clf.fit(X_train, y_train)\n",
    "\n",
    "# Test the classifier\n",
    "y_pred = clf.predict(X_test)\n",
    "\n",
    "print(\"Confusion Matrix:\")\n",
    "print(confusion_matrix(y_test, y_pred))\n",
    "\n",
    "# Evaluate performance\n",
    "print(\"Classification Report:\")\n",
    "print(classification_report(y_test, y_pred))"
   ]
  },
  {
   "cell_type": "code",
   "execution_count": null,
   "metadata": {},
   "outputs": [],
   "source": []
  }
 ],
 "metadata": {
  "kernelspec": {
   "display_name": ".venv",
   "language": "python",
   "name": "python3"
  },
  "language_info": {
   "codemirror_mode": {
    "name": "ipython",
    "version": 3
   },
   "file_extension": ".py",
   "mimetype": "text/x-python",
   "name": "python",
   "nbconvert_exporter": "python",
   "pygments_lexer": "ipython3",
   "version": "3.9.12"
  }
 },
 "nbformat": 4,
 "nbformat_minor": 2
}
